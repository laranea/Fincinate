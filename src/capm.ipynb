{
 "cells": [
  {
   "cell_type": "markdown",
   "metadata": {},
   "source": [
    "# CAPM & Beta Calculation"
   ]
  },
  {
   "cell_type": "markdown",
   "metadata": {},
   "source": [
    "The capital asset pricing model (CAPM) of William Sharpe (1964) and John Lintner (1965) marks the birth of asset pricing theory. The CAPM model gives prediction about the required rate of return of an asset that takes into account the asset's sensitivity to systematic risk(Beta) and the expected return of the market and the expected risk free rate.\n",
    "\n",
    "The **Beta** is a measure of the sensitivity of an asset's return relative to a market benchmark rate of return.\n",
    "\n",
    "$\\beta=\\frac{Cov(R_{i},R_{m})}{Var(R_{m}}=\\rho_{m,i} \\times \\frac{\\sigma_{i}}{\\sigma_{m}}$\n",
    "\n",
    "Beta equas zero means that the asset invested has the same volatility with the market benchmark.\n",
    "\n",
    "**CAPM Formula:**\n",
    "\n",
    "$R_{i}=R_{f}+\\beta (R_{m}-R_{f})$\n",
    "\n",
    "where\n",
    "\n",
    "$R_{f}$: risk-free rate;\n",
    "\n",
    "$R_{m}$: market return (SP500);\n",
    "\n",
    "$R_{i}$: required rate of return of a stock"
   ]
  },
  {
   "cell_type": "code",
   "execution_count": 1,
   "metadata": {},
   "outputs": [],
   "source": [
    "import os \n",
    "import datetime as dt\n",
    "import pandas as pd\n",
    "import matplotlib.pyplot as plt\n",
    "import statsmodels.api as sm\n",
    "from pandas_datareader import data as web\n",
    "from pulp import *"
   ]
  },
  {
   "cell_type": "code",
   "execution_count": 35,
   "metadata": {},
   "outputs": [
    {
     "data": {
      "image/png": "[encoded data removed]",
      "text/plain": [
       "<matplotlib.figure.Figure at 0x5e052b0>"
      ]
     },
     "metadata": {},
     "output_type": "display_data"
    },
    {
     "name": "stdout",
     "output_type": "stream",
     "text": [
      "                            OLS Regression Results                            \n",
      "==============================================================================\n",
      "Dep. Variable:                   MSFT   R-squared:                       0.611\n",
      "Model:                            OLS   Adj. R-squared:                  0.610\n",
      "Method:                 Least Squares   F-statistic:                     1181.\n",
      "Date:                Thu, 04 Apr 2019   Prob (F-statistic):          2.34e-156\n",
      "Time:                        02:07:03   Log-Likelihood:                 2516.3\n",
      "No. Observations:                 755   AIC:                            -5029.\n",
      "Df Residuals:                     753   BIC:                            -5019.\n",
      "Df Model:                           1                                         \n",
      "Covariance Type:            nonrobust                                         \n",
      "==============================================================================\n",
      "                 coef    std err          t      P>|t|      [0.025      0.975]\n",
      "------------------------------------------------------------------------------\n",
      "const          0.0006      0.000      1.779      0.076    -5.8e-05       0.001\n",
      "^GSPC          1.3716      0.040     34.359      0.000       1.293       1.450\n",
      "==============================================================================\n",
      "Omnibus:                      150.668   Durbin-Watson:                   2.164\n",
      "Prob(Omnibus):                  0.000   Jarque-Bera (JB):             3569.839\n",
      "Skew:                          -0.117   Prob(JB):                         0.00\n",
      "Kurtosis:                      13.650   Cond. No.                         127.\n",
      "==============================================================================\n",
      "\n",
      "Warnings:\n",
      "[1] Standard Errors assume that the covariance matrix of the errors is correctly specified.\n"
     ]
    }
   ],
   "source": [
    "class CAPM(object):\n",
    "    def __init__(self,symbols,start,end):\n",
    "        \"\"\"\n",
    "        :symbols:list\n",
    "        :start:string, format \"YYYY-MM-DD\"\n",
    "        :end:string, format \"YYYY-MM-DD\"\n",
    "        \n",
    "        \"\"\"\n",
    "        self.symbols=symbols+['^GSPC']\n",
    "        self.start=dt.datetime.strptime(start, '%Y-%m-%d')\n",
    "        self.end=dt.datetime.strptime(end, '%Y-%m-%d')\n",
    "        \n",
    "    def load_data(self):\n",
    "        \"\"\"\n",
    "        data source: yahoo finance\n",
    "        \n",
    "        \"\"\"\n",
    "        df=pd.DataFrame()\n",
    "        for i in self.symbols:\n",
    "            name='./data/%s.csv'%i\n",
    "            if not os.path.isfile(name):\n",
    "                try:\n",
    "                    temp= web.DataReader(i, 'yahoo', self.start, self.end)['Adj Close']\n",
    "                except:\n",
    "                    raise TypeError(\"Yahoo finance do not supply data of symbol %s. \"%i)\n",
    "            \n",
    "                temp.to_frame().to_csv(name)\n",
    "                df[i]=temp\n",
    "            else:\n",
    "                df[i]=pd.read_csv(name).set_index('Date')['Adj Close']\n",
    "            \n",
    "        df.columns=self.symbols\n",
    "        df=df.pct_change()\n",
    "        df=df.dropna()\n",
    "        df.index=pd.to_datetime(df.index)\n",
    "        \n",
    "        self.daily_return=df\n",
    "        self.acc_ret=(1 + self.daily_return).cumprod() - 1 \n",
    "    \n",
    "    def plot_cumret(self):\n",
    "        \"\"\"\n",
    "        plot cumulative return\n",
    "        \n",
    "        \"\"\"\n",
    "        plt.plot(self.acc_ret)\n",
    "        plt.title(\"Cumulative return of MSFT & ^GSPC\")\n",
    "        plt.legend(self.symbols)\n",
    "        plt.show()\n",
    "        \n",
    "    def beta(self,sb=None):\n",
    "        \"\"\"        \n",
    "        :sb:string, symbol specified\n",
    "        :raises TypeError: if ``sb`` is not a string or sb is not in symbols list initiated\n",
    "        \n",
    "        \"\"\"\n",
    "        if sb!=None and sb in self.symbols and type(sb)==str:\n",
    "            y=self.daily_return[sb]\n",
    "        else:\n",
    "            raise TypeError(\"Must specify only one symbol which is in the initial symbols list.\")\n",
    "            \n",
    "        x=self.daily_return[self.symbols[-1]]\n",
    "\n",
    "        #do OLS regression \n",
    "        X=sm.add_constant(x)\n",
    "        res=sm.OLS(y,X).fit()\n",
    "        return res\n",
    "\n",
    "    def display_beta(self,sb=None):\n",
    "        res=self.beta(sb)\n",
    "        print(res.summary())\n",
    "        \n",
    "        \n",
    "'''\n",
    "--Download price data of Microsoft stock and SP500\n",
    "--Data source: Yahoo Finance\n",
    "--Start date: 04/03/2016\n",
    "--End date: 04/03/2019\n",
    "\n",
    "'''\n",
    "obj=CAPM(['MSFT'],'2016-04-03','2019-04-03')\n",
    "obj.load_data()\n",
    "obj.plot_cumret()\n",
    "obj.display_beta('MSFT')"
   ]
  },
  {
   "cell_type": "markdown",
   "metadata": {},
   "source": [
    "The coefficient of ^GSPC is 1.37, which means the **beta** (3Y daily) of Microsoft is 1.37."
   ]
  },
  {
   "cell_type": "markdown",
   "metadata": {},
   "source": [
    "\n",
    "\n",
    "\n"
   ]
  },
  {
   "cell_type": "markdown",
   "metadata": {},
   "source": [
    "# Linear Programming: Portfolio Optimization"
   ]
  },
  {
   "cell_type": "markdown",
   "metadata": {},
   "source": [
    "Modern portfolio optimization theory was pioneered by Harry Markowitz who introduced a method of allocating wealth optimally in assets with different risk and return sets.\n",
    "\n",
    "To construct a linear programming problem, let the least absolute deviations as the objective funtion to minimize. \n",
    "\n",
    "Set constraints firstly the portfolio return larger than a target; secondly the beta equals 1.0 as specified; thirdly the sum of $x_{i}$ equals 1.0.Assume shortselling and taking leverage are allowed.\n",
    "\n",
    "$ minimize \\frac{1}{T}\\sum_{t=1}^{T}|\\sum_{i=1}^{n}x_{i}(R_{i}(t)-\\frac{1}{T}\\sum_{j=1}^{T}R_{i}(j))| $\n",
    "\n",
    "s.t. $\\frac{1}{T}\\sum_{t=1}^{T}\\sum_{i=1}^{n}x_{i}R_{i}(t) >=\\mu$\n",
    "\n",
    "$\\beta=1.0$\n",
    "\n",
    "$\\sum_{i}^{n}x_{i}=1.0$\n",
    "\n",
    "\n"
   ]
  },
  {
   "cell_type": "code",
   "execution_count": 186,
   "metadata": {},
   "outputs": [],
   "source": [
    "class PortfolioOpt(CAPM):\n",
    "    def __init__(self, symbols,start,end,target_mu,target_beta=1.):\n",
    "        super(PortfolioOpt,self).__init__(symbols,start,end)\n",
    "        self.target_mu=target_mu\n",
    "        self.target_beta=target_beta\n",
    "        self.load_data()\n",
    "     \n",
    "    def portfolio(self,weight, mean_ret, cov):\n",
    "        port_ret=np.sum(mean_ret*dec_vars_sort)\n",
    "        port_std=np.sqrt(np.matrix(weight)*np.matrix(cov)*np.matrix(weight).T)[0,0]\n",
    "        return port_ret,port_std\n",
    "        \n",
    "    def optimize(self):\n",
    "        #load return data of all symbols except from benchmark rate\n",
    "        ticker=self.symbols[:-1]\n",
    "        df=self.daily_return[ticker]\n",
    "        \n",
    "        #calculate beta of all assets\n",
    "        betas=[self.beta(k).params['^GSPC'] for k in ticker]\n",
    "        \n",
    "        #define decision variables\n",
    "        list_dec_vars=list(range(len(self.symbols)-1))\n",
    "        dec_vars=LpVariable.dicts(\"x\",list_dec_vars,0.,1.)\n",
    "        dec_vars_sort=[dec_vars[i] for i in range(len(dec_vars))]\n",
    "        \n",
    "        \"\"\"define constraints\"\"\"\n",
    "        #take the last item of accumulative return of each stock as the holding period return; annulized them using function: \n",
    "        #(1+Total return)^(252/days)-1\n",
    "        annulized_holding_period_return=((1+self.acc_ret[ticker].iloc[-1])**(252./(len(self.acc_ret)+1))-1)\n",
    "        c1=sum(( annulized_holding_period_return*dec_vars_sort))>=self.target_mu #portfolio annulized return larger than a target rate\n",
    "        c2=sum(dec_vars_sort)==1 # sum of allocation weights equals 1.\n",
    "        c3=sum([a*b for a,b in zip(betas,dec_vars_sort)])==self.target_beta  # portfolio's beta equals 1.\n",
    "        \n",
    "        #define objective function \n",
    "        problem=LpProblem(\"Portfolio Optimization\", LpMinimize)\n",
    "        \n",
    "        #add constraint to the problem\n",
    "        problem+=c1\n",
    "        problem+=c2\n",
    "        problem+=c3\n",
    "        \n",
    "        #add objective function to the problem\n",
    "        problem+=((df-df.mean()).abs()*dec_vars_sort).sum(axis=1).sum(axis=0)/len(df)\n",
    "        \n",
    "        #solve the problem\n",
    "        print(problem)\n",
    "        problem.solve()\n",
    "        allocate=[i.varValue for i in dec_vars_sort] \n",
    "        \n",
    "        #calculate result\n",
    "        annulized_return=((1+self.acc_ret[ticker].iloc[-1])**(252./(len(self.acc_ret)+1))-1)\n",
    "        risk=((df-df.mean()).abs()*allocate).sum(axis=1).sum(axis=0)/len(df)\n",
    "        portfolio_annulized_ret=sum([a*b for a,b in zip(annulized_return,allocate)])\n",
    "        \n",
    "        #return\n",
    "        allocate_dict=dict(zip(self.symbols[:-1],[round(i,4) for i in allocate]))                         \n",
    "        annulized_return_dict=dict(zip(self.symbols[:-1],[round(i,4) for i in annulized_return]))\n",
    "        beta_dict=dict(zip(self.symbols[:-1],[round(i,4) for i in betas]))\n",
    "        portfolio_return=round(sum([round(a*b,4) for a,b in zip(betas,allocate)]))\n",
    "            \n",
    "        return risk, round(portfolio_annulized_ret,4),allocate_dict,annulized_return_dict,beta_dict,portfolio_return"
   ]
  },
  {
   "cell_type": "code",
   "execution_count": 187,
   "metadata": {},
   "outputs": [
    {
     "name": "stdout",
     "output_type": "stream",
     "text": [
      "Portfolio Optimization:\n",
      "MINIMIZE\n",
      "0.00939336388082*x_0 + 0.0102127007167*x_1 + 0.0082237721448*x_2 + 0.0\n",
      "SUBJECT TO\n",
      "_C1: 0.321166307642 x_0 + 0.227897509248 x_1 + 0.0934888456868 x_2 >= 0.1\n",
      "\n",
      "_C2: x_0 + x_1 + x_2 = 1\n",
      "\n",
      "_C3: 1.37156539199 x_0 + 1.24561294719 x_1 + 0.704409581257 x_2 = 1\n",
      "\n",
      "VARIABLES\n",
      "x_0 <= 1 Continuous\n",
      "x_1 <= 1 Continuous\n",
      "x_2 <= 1 Continuous\n",
      "\n"
     ]
    }
   ],
   "source": [
    "self=PortfolioOpt(['MSFT','AAPL','SBUX'],'2016-04-03','2019-04-03',0.1)\n",
    "risk, portfolio_annulized_ret,allocate,annulized_ret,betas,beta=self.optimize()"
   ]
  },
  {
   "cell_type": "code",
   "execution_count": 188,
   "metadata": {},
   "outputs": [
    {
     "name": "stdout",
     "output_type": "stream",
     "text": [
      "('Annulized return of portfolio:', 0.1944)\n",
      "('Weights:', {'SBUX': 0.5569, 'AAPL': 0.0, 'MSFT': 0.4431})\n",
      "('Annulized return of each stock:', {'SBUX': 0.0935, 'AAPL': 0.2279, 'MSFT': 0.3212})\n",
      "('Beta of each stock:', {'SBUX': 0.7044, 'AAPL': 1.2456, 'MSFT': 1.3716})\n"
     ]
    }
   ],
   "source": [
    "print('Annulized return of portfolio:',round(portfolio_annulized_ret,4))\n",
    "print('Weights:',allocate)\n",
    "print('Annulized return of each stock:',annulized_ret)\n",
    "print('Beta of each stock:',betas)"
   ]
  },
  {
   "cell_type": "code",
   "execution_count": null,
   "metadata": {
    "collapsed": true
   },
   "outputs": [],
   "source": []
  },
  {
   "cell_type": "code",
   "execution_count": null,
   "metadata": {
    "collapsed": true
   },
   "outputs": [],
   "source": []
  }
 ],
 "metadata": {
  "kernelspec": {
   "display_name": "Python 2",
   "language": "python",
   "name": "python2"
  },
  "language_info": {
   "codemirror_mode": {
    "name": "ipython",
    "version": 2
   },
   "file_extension": ".py",
   "mimetype": "text/x-python",
   "name": "python",
   "nbconvert_exporter": "python",
   "pygments_lexer": "ipython2",
   "version": "2.7.13"
  }
 },
 "nbformat": 4,
 "nbformat_minor": 2
}
